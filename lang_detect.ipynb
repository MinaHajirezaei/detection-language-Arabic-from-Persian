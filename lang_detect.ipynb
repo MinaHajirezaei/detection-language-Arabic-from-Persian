{
  "nbformat": 4,
  "nbformat_minor": 0,
  "metadata": {
    "colab": {
      "name": "lang_detect.ipynb",
      "provenance": [],
      "collapsed_sections": [
        "e18p00KheAqs"
      ]
    },
    "kernelspec": {
      "name": "python3",
      "display_name": "Python 3"
    },
    "language_info": {
      "name": "python"
    }
  },
  "cells": [
    {
      "cell_type": "markdown",
      "metadata": {
        "id": "pYCEe-bpNZc_"
      },
      "source": [
        "\n",
        "# **detect Arabic words with transformers model**\n",
        "\n"
      ]
    },
    {
      "cell_type": "code",
      "metadata": {
        "id": "6ypNbgurJWQR"
      },
      "source": [
        "!pip install transformers"
      ],
      "execution_count": null,
      "outputs": []
    },
    {
      "cell_type": "code",
      "metadata": {
        "id": "5jkz1cQlJuMj"
      },
      "source": [
        "from transformers import AutoTokenizer, AutoModel"
      ],
      "execution_count": null,
      "outputs": []
    },
    {
      "cell_type": "code",
      "metadata": {
        "id": "7qDveNvDJ2-J"
      },
      "source": [
        "MODEL_NAME = \"asafaya/bert-base-arabic\""
      ],
      "execution_count": null,
      "outputs": []
    },
    {
      "cell_type": "code",
      "metadata": {
        "id": "6-t17_LwJ_OZ"
      },
      "source": [
        "tokenizer = AutoTokenizer.from_pretrained(MODEL_NAME)"
      ],
      "execution_count": null,
      "outputs": []
    },
    {
      "cell_type": "code",
      "metadata": {
        "id": "z4X4exWRKKvR"
      },
      "source": [
        "vocab = tokenizer.vocab.keys()"
      ],
      "execution_count": null,
      "outputs": []
    },
    {
      "cell_type": "code",
      "metadata": {
        "id": "YK9bBDENMobs"
      },
      "source": [
        "text = '''الحمد لله رب العالمین و صلى الله على سیدنا محمد و آله الطاهرین و لعنة الله على أعدائهم اجمعین '''"
      ],
      "execution_count": null,
      "outputs": []
    },
    {
      "cell_type": "code",
      "metadata": {
        "id": "ENPJuToxK3Xe"
      },
      "source": [
        "clean_text = tokenizer.decode(tokenizer(text, add_special_tokens=False)['input_ids'])"
      ],
      "execution_count": null,
      "outputs": []
    },
    {
      "cell_type": "code",
      "metadata": {
        "id": "Y2trOdFFLxBV"
      },
      "source": [
        "# tokens = text . split (' ')"
      ],
      "execution_count": null,
      "outputs": []
    },
    {
      "cell_type": "code",
      "metadata": {
        "colab": {
          "base_uri": "https://localhost:8080/"
        },
        "id": "bgD8G7BLLP8_",
        "outputId": "32133889-a466-4321-f15d-b29c0c141698"
      },
      "source": [
        "for token in clean_text.split(' '):\n",
        "# for token in tokens:\n",
        "    if token in vocab:\n",
        "      print(token)"
      ],
      "execution_count": null,
      "outputs": [
        {
          "output_type": "stream",
          "name": "stdout",
          "text": [
            "الحمد\n",
            "لله\n",
            "رب\n",
            "و\n",
            "صلى\n",
            "الله\n",
            "على\n",
            "محمد\n",
            "و\n",
            "اله\n",
            "و\n",
            "لعنة\n",
            "الله\n",
            "على\n"
          ]
        }
      ]
    },
    {
      "cell_type": "markdown",
      "metadata": {
        "id": "z2elM6BHT1k6"
      },
      "source": [
        "-------------------------------------------"
      ]
    },
    {
      "cell_type": "markdown",
      "metadata": {
        "id": "BPzL-YQ6fURX"
      },
      "source": [
        "# **detect Arabic sentence with different models**\n"
      ]
    },
    {
      "cell_type": "markdown",
      "metadata": {
        "id": "udepZwC4TzWL"
      },
      "source": [
        "To use data in Word format"
      ]
    },
    {
      "cell_type": "code",
      "metadata": {
        "id": "hfmW5zM1PLft"
      },
      "source": [
        "!pip install docx2txt"
      ],
      "execution_count": null,
      "outputs": []
    },
    {
      "cell_type": "code",
      "metadata": {
        "colab": {
          "base_uri": "https://localhost:8080/"
        },
        "id": "yiu31_ACPMvs",
        "outputId": "b749ffc3-8f88-45f2-dc90-0c589cc6370e"
      },
      "source": [
        "import docx2txt\n",
        "MY_TEXT = docx2txt.process(\"data.docx\")\n",
        "print(MY_TEXT)"
      ],
      "execution_count": null,
      "outputs": [
        {
          "output_type": "stream",
          "name": "stdout",
          "text": [
            "الحمد للّه ربُّ العالمين و صلى اللّه على سيدنا محمد و آله الطاهرين و لَعنَة اللَّه عَلَى أعدائهم اجمعين.\n",
            "\n",
            "قبل از ورود به بحث پيرامون كلمات امام سجاد حضرت زين العابدين عليه السلام در «رساله حقوق» آشنايى مختصرى با صاحب اين سخنان ضرورى مى‌نمايد.\n",
            "\n",
            "از زمانهاى بسيار دور كتابهاى اخلاقى و حقوقى فراوانى تدوين يافته، ولى كمتر نگارنده و صاحب مكتبى را مى‌شناسيم كه نمونه كامل عملى و نمود عينى گفته‌ها و انديشه‌هاى خود باشد؛ از اين رو شناخت و آشنايى با زندگى و سيره عملى وجود مبارك امام زين العابدين عليه السلام بسيار مفيد و موثر است.\n",
            "\n",
            "بنابر قول مشهور ولادت آن حضرت در سال 38 هـ ق (1) و بنا به نقل ديگرى در سال 36 هـ ق (2) مى‌باشد و مورّخان با اختلاف اقوال روز ولادت آن حضرت را پنجم شعبان (3) و نيمه جمادى الثانى (4) ذكر كرده اند.\n",
            "\n",
            "بنابر قول مشهور، مادرش شهربانو نام دارد و سلامه يا غزاله نيز گفته اند(5)، كه مورخان نوعا اين خانم را دختر يزدگرد آخرين پادشاه ساسانى دانسته اند. براى موضوع بحث ما هيچ يك از اين دو نكته شايان توجه نيست؛ اگرچه هر يك در جاى خود، شايسته تحقيق و بررسى است، ولى مهم اين است: كسانى كه در ولادت آن حضرت، قول سال 38 هـ ق و اين كه شهربانو دختر يزدگرد است را تضعيف كرده اند، دليل متقن و محكمى‌براى مدعايشان ندارند و آنچه كه ذكر نموده اند، وجوه استحسانى و قابل جواب است؛ بنابراين دليلى وجود ندارد كه ما نظر مشهور مورخان را، چه درباره سال ولادت و چه درباره مادر آن حضرت نپذيريم.\n",
            "\n",
            "برجستگى عمده در تاريخ زندگى امام سجاد عليه السلام همان روزهاى آغازين محرم سال 61 هـ ق است و از همان ايام است كه نام و ياد آن حضرت، در تاريخ مورد توجه قرار گرفته است، كه از اين منظر نيز به واقعه عاشورا و جايگاه حضرت در آن ايام به طور مستقيم نخواهيم پرداخت؛ گرچه اين مطلب هم به طور مستقل شايسته بحث و بررسى است.\n",
            "\n",
            "آنچه كه ما در مقام نقل و تحقيق آن هستيم، بيان گوشه اى از تجلّى شخصيّت آن حضرت بعد از واقعه عاشورا، تا زمان وفات است كه اگر تاريخ شهادت امام سجاد عليه السلام را سال 95 هـ ق (6) بدانيم، يك دوره 35 ساله بسيار پرماجراست، كه در حقيقت مى‌خواهيم نور وجود حضرت را در آن روزگار تيره و تار، كه هر روزش تاريك تر از روز قبل است، دريابيم.\n",
            "\n",
            "حضرت سيدالشهدا عليه السلام در سخنى، مردم آن زمان را اين گونه توصيف مى‌فرمايند:\n",
            "\n",
            "النّاس عَبيدُ الدّنيا، و الدّين لَعِق (7) على اَلسِنَتِهم، يحوطُونَهُ ما درَّت معايشُهُم، فاذا مُحِّصوا بالبلأ قَلَّ الدَّيَّانون (8).\n",
            "\n",
            "«مردم به صورت قضيه مهمله عمدتا بندگان دنيايند و ديندارى و حظ و بهره آنان از دين، مانند انسان گرسنه اى است كه بهره اش از غذا، فقط تغذيه حس چشايى است».\n",
            "\n",
            "اين تعبيرات اباعبداللّه عليه السلام، در توصيف و تبيين وضعيت اجتماعى، و جوّ حاكم بر افكار و انديشه‌هاى مردم آن زمان بسيار لطيف و در نتيجه، روانشناسى اجتماعى آن روزگار است.\n",
            "\n",
            "امام عليه السلام به اين نكته اشاره مى‌فرمايند كه دين به اعماق وجود انسانهاى آن زمان نفوذ نكرده و همه وجود آنان را سرشار نكرده بود. ميزان ديندارى مردم و بهره آنها از دين و احكام الهى، همان بهره اى است كه انسان گرسنه از شيرين كردن دهان خود مى‌برد و در نتيجه امام عليه السلام بعد از اين عبارت مى‌فرمايند: اين مردم كه دين را اينگونه تلقى كرده بودند، يحوطونه ما درَّت معايشهم تا زمانى كه معيشت و زندگى آنها مى‌طلبيد و به آنها اجازه مى‌داد حول محور دين مى‌چرخيدند، اما اگر زمانى پاى امتحان به ميان مى‌آمد كه بايد براى حمايت از دين اقدامى‌عملى و جدى مى‌كردند و اين حمايت با گوشه اى از منافع آنها منافات داشت قلّ الدَّيَّانون پايبندان و معتقدان به دين، بسيار كم يافت مى‌شدند.\n",
            "\n",
            "اين وضعيت اجتماعى آغاز دوران امامت امام سجاد عليه السلام بود و بايد مقايسه شود بين اين روحيه حاكم بر اجتماع و اين مقدار ديندارى و تعبد به موازين و احكام شرع با آنچه كه اميرالمومنين عليه السلام در خطبه پنجاه و ششم نهج البلاغه مى‌فرمايند:\n",
            "\n",
            "و لقد كنَّا مع رسول اللّه صَلَّى اللّه عَلَيهِ و آلِهِ و سَلَّم نقتُلُ آبأنا و ابنأنا و اخوانَنا و أعمامَنا ما يزيدُنا ذلك الا ايمانا و تسليما(9).\n",
            "\n",
            "«ما در روزهاى آغازين ظهور دين همراه با رسول اللّه صلى اللّه عليه و آله و سلم، دست به شمشير مى‌برديم و پدر، فرزند، برادر و عموهايمان را مى‌كشتيم، اما اين قتل و كشتار ارحام و نزديكان تنها باعث تقويت ايمان و ثبات قدم، در اعتقاداتمان مى‌شد».\n",
            "\n",
            "\n",
            "\n",
            "31\n"
          ]
        }
      ]
    },
    {
      "cell_type": "markdown",
      "metadata": {
        "id": "Fgle5UbXP6zD"
      },
      "source": [
        "#use library **parsbert**  for detect sentence arabic with persian\n"
      ]
    },
    {
      "cell_type": "code",
      "metadata": {
        "id": "B-_6s4sZPxxk"
      },
      "source": [
        "!pip install -q hazm\n",
        "# !pip3 install stopwords_guilannlp\n",
        "!pip install -q git+https://github.com/m3hrdadfi/zabanshenas.git"
      ],
      "execution_count": null,
      "outputs": []
    },
    {
      "cell_type": "code",
      "metadata": {
        "id": "RBuf_crHQGfK"
      },
      "source": [
        "from hazm import *\n",
        "from hazm import word_tokenize, sent_tokenize\n",
        "from hazm import stopwords_list\n",
        "from zabanshenas.zabanshenas import Zabanshenas\n",
        "# from stopwords_guilannlp import stopwords_output\n",
        "import string\n",
        "import re"
      ],
      "execution_count": null,
      "outputs": []
    },
    {
      "cell_type": "markdown",
      "metadata": {
        "id": "qTzUzezZQOqK"
      },
      "source": [
        "For example, a text that is not in Word format (persian and arabic)"
      ]
    },
    {
      "cell_type": "code",
      "metadata": {
        "id": "IHtx6ht3QNhk"
      },
      "source": [
        "text = \"\"\"\n",
        "الحمد للّه ربُّ العالمين و صلى اللّه على سيدنا محمد و آله الطاهرين و لَعنَة اللَّه عَلَى أعدائهم اجمعين.\n",
        "قبل از ورود به بحث پيرامون كلمات امام سجاد حضرت زين العابدين عليه السلام در «رساله حقوق» آشنايى مختصرى با صاحب اين سخنان ضرورى مى‌نمايد.\n",
        "النّاس عَبيدُ الدّنيا، و الدّين لَعِق (7) على اَلسِنَتِهم، يحوطُونَهُ ما درَّت معايشُهُم، فاذا مُحِّصوا بالبلأ قَلَّ الدَّيَّانون (8).\n",
        "«مردم به صورت قضيه مهمله عمدتا بندگان دنيايند و ديندارى و حظ و بهره آنان از دين، مانند انسان گرسنه اى است كه بهره اش از غذا، فقط تغذيه حس چشايى است».\n",
        "اين تعبيرات اباعبداللّه عليه السلام، در توصيف و تبيين وضعيت اجتماعى، و جوّ حاكم بر افكار و انديشه‌هاى مردم آن زمان بسيار لطيف و در نتيجه، روانشناسى اجتماعى آن روزگار است.\n",
        "امام عليه السلام به اين نكته اشاره مى‌فرمايند كه دين به اعماق وجود انسانهاى آن زمان نفوذ نكرده و همه وجود آنان را سرشار نكرده بود. ميزان ديندارى مردم و بهره آنها از دين و احكام الهى، همان بهره اى است كه انسان گرسنه از شيرين كردن دهان خود مى‌برد و در نتيجه امام عليه السلام بعد از اين عبارت مى‌فرمايند: اين مردم كه دين را اينگونه تلقى كرده بودند، يحوطونه ما درَّت معايشهم تا زمانى كه معيشت و زندگى آنها مى‌طلبيد و به آنها اجازه مى‌داد حول محور دين مى‌چرخيدند، اما اگر زمانى پاى امتحان به ميان مى‌آمد كه بايد براى حمايت از دين اقدامى‌عملى و جدى مى‌كردند و اين حمايت با گوشه اى از منافع آنها منافات داشت قلّ الدَّيَّانون پايبندان و معتقدان به دين، بسيار كم يافت مى‌شدند.\n",
        "اين وضعيت اجتماعى آغاز دوران امامت امام سجاد عليه السلام بود و بايد مقايسه شود بين اين روحيه حاكم بر اجتماع و اين مقدار ديندارى و تعبد به موازين و احكام شرع با آنچه كه اميرالمومنين عليه السلام در خطبه پنجاه و ششم نهج البلاغه مى‌فرمايند:\n",
        "\"\"\""
      ],
      "execution_count": null,
      "outputs": []
    },
    {
      "cell_type": "markdown",
      "metadata": {
        "id": "jcBV5fnpQxix"
      },
      "source": [
        "We can use ready-made text or word format text. \n",
        "It does not matter "
      ]
    },
    {
      "cell_type": "code",
      "metadata": {
        "colab": {
          "base_uri": "https://localhost:8080/"
        },
        "id": "9174jjpgQvXh",
        "outputId": "8e40d5d5-fb66-4381-91c5-b83d43f8e1c4"
      },
      "source": [
        "data = text.split('\\n')\n",
        "# data = MY_TEXT.split('\\n')\n",
        "data = data[1:-1]\n",
        "data"
      ],
      "execution_count": null,
      "outputs": [
        {
          "output_type": "execute_result",
          "data": {
            "text/plain": [
              "['الحمد للّه ربُّ العالمين و صلى اللّه على سيدنا محمد و آله الطاهرين و لَعنَة اللَّه عَلَى أعدائهم اجمعين.',\n",
              " 'قبل از ورود به بحث پيرامون كلمات امام سجاد حضرت زين العابدين عليه السلام در «رساله حقوق» آشنايى مختصرى با صاحب اين سخنان ضرورى مى\\u200cنمايد.',\n",
              " 'النّاس عَبيدُ الدّنيا، و الدّين لَعِق (7) على اَلسِنَتِهم، يحوطُونَهُ ما درَّت معايشُهُم، فاذا مُحِّصوا بالبلأ قَلَّ الدَّيَّانون (8).',\n",
              " '«مردم به صورت قضيه مهمله عمدتا بندگان دنيايند و ديندارى و حظ و بهره آنان از دين، مانند انسان گرسنه اى است كه بهره اش از غذا، فقط تغذيه حس چشايى است».',\n",
              " 'اين تعبيرات اباعبداللّه عليه السلام، در توصيف و تبيين وضعيت اجتماعى، و جوّ حاكم بر افكار و انديشه\\u200cهاى مردم آن زمان بسيار لطيف و در نتيجه، روانشناسى اجتماعى آن روزگار است.',\n",
              " 'امام عليه السلام به اين نكته اشاره مى\\u200cفرمايند كه دين به اعماق وجود انسانهاى آن زمان نفوذ نكرده و همه وجود آنان را سرشار نكرده بود. ميزان ديندارى مردم و بهره آنها از دين و احكام الهى، همان بهره اى است كه انسان گرسنه از شيرين كردن دهان خود مى\\u200cبرد و در نتيجه امام عليه السلام بعد از اين عبارت مى\\u200cفرمايند: اين مردم كه دين را اينگونه تلقى كرده بودند، يحوطونه ما درَّت معايشهم تا زمانى كه معيشت و زندگى آنها مى\\u200cطلبيد و به آنها اجازه مى\\u200cداد حول محور دين مى\\u200cچرخيدند، اما اگر زمانى پاى امتحان به ميان مى\\u200cآمد كه بايد براى حمايت از دين اقدامى\\u200cعملى و جدى مى\\u200cكردند و اين حمايت با گوشه اى از منافع آنها منافات داشت قلّ الدَّيَّانون پايبندان و معتقدان به دين، بسيار كم يافت مى\\u200cشدند.',\n",
              " 'اين وضعيت اجتماعى آغاز دوران امامت امام سجاد عليه السلام بود و بايد مقايسه شود بين اين روحيه حاكم بر اجتماع و اين مقدار ديندارى و تعبد به موازين و احكام شرع با آنچه كه اميرالمومنين عليه السلام در خطبه پنجاه و ششم نهج البلاغه مى\\u200cفرمايند:']"
            ]
          },
          "metadata": {},
          "execution_count": 54
        }
      ]
    },
    {
      "cell_type": "markdown",
      "metadata": {
        "id": "Bf3-mmTlRdG4"
      },
      "source": [
        "split sentences then clear them (Normalize text)"
      ]
    },
    {
      "cell_type": "code",
      "metadata": {
        "id": "4CTE9LSYRbhn"
      },
      "source": [
        "normalizer = Normalizer()\n",
        "\n",
        "def clean(text):\n",
        "    text = ' '.join(word_tokenize(normalizer.normalize(text)))\n",
        "    text = text.replace('\\u200c', ' ')\n",
        "    text = re.sub(r'[0-9]', '', text)\n",
        "    text = re.sub(r'[۰-۹]', '', text)\n",
        "    text = text.translate(str.maketrans('', '', string.punctuation))\n",
        "    text = text.replace('،', '').replace('»', '').replace('«', '')\n",
        "    text = text.replace('علیه السلام', '')\n",
        "    return text.strip()"
      ],
      "execution_count": null,
      "outputs": []
    },
    {
      "cell_type": "markdown",
      "metadata": {
        "id": "eh876dzgRww3"
      },
      "source": [
        "detection model using Transformers"
      ]
    },
    {
      "cell_type": "code",
      "metadata": {
        "id": "6jURrsZRRt7m"
      },
      "source": [
        "zabanshenas = Zabanshenas()"
      ],
      "execution_count": null,
      "outputs": []
    },
    {
      "cell_type": "markdown",
      "metadata": {
        "id": "gCqo42V2S4Et"
      },
      "source": [
        "In this model, it recognizes Persian language with three dialects of Mazandaran, Gilaki and Persian "
      ]
    },
    {
      "cell_type": "code",
      "metadata": {
        "colab": {
          "base_uri": "https://localhost:8080/"
        },
        "id": "v1qoShEPSQA-",
        "outputId": "cc178e51-cfbb-4aa1-ea22-38f31c88baf6"
      },
      "source": [
        "pharases = []\n",
        "for item in data:\n",
        "    sentences = sent_tokenize(item)\n",
        "    for sent in sentences:\n",
        "        phrase = re.split('[?.:]', sent)[0]\n",
        "        phrase= clean(phrase)\n",
        "        print(phrase)\n",
        "        results = zabanshenas.detect(phrase)\n",
        "        print(results)\n",
        "        pharases.append(phrase)\n",
        "    \n",
        "# pharases"
      ],
      "execution_count": null,
      "outputs": [
        {
          "output_type": "stream",
          "name": "stdout",
          "text": [
            "الحمد لله رب العالمین و صلى الله على سیدنا محمد و آله الطاهرین و لعنة الله على أعدائهم اجمعین\n",
            "[{'language': 'Egyptian Arabic', 'code': 'arz', 'score': 0.8102155923843384}]\n",
            "قبل از ورود به بحث پیرامون کلمات امام سجاد حضرت زین العابدین علیه السلام در  رساله حقوق  آشنایى مختصرى با صاحب این سخنان ضرورى مى نماید\n",
            "[{'language': 'Gilaki', 'code': 'glk', 'score': 0.5906855463981628}]\n",
            "الناس عبید الدنیا  و الدین لعق    على السنتهم  یحوطونه ما درت معایشهم  فاذا محصوا بالبلأ قل الدیانون\n",
            "[{'language': 'Egyptian Arabic', 'code': 'arz', 'score': 0.932491660118103}]\n",
            "مردم به صورت قضیه مهمله عمدتا بندگان دنیایند و دیندارى و حظ و بهره آنان از دین  مانند انسان گرسنه اى است که بهره اش از غذا  فقط تغذیه حس چشایى است\n",
            "[{'language': 'Gilaki', 'code': 'glk', 'score': 0.7421403527259827}]\n",
            "این تعبیرات اباعبدالله علیه السلام  در توصیف و تبیین وضعیت اجتماعى  و جو حاکم بر افکار و اندیشه هاى مردم آن زمان بسیار لطیف و در نتیجه  روانشناسى اجتماعى آن روزگار است\n",
            "[{'language': 'Persian', 'code': 'fas', 'score': 0.7608534693717957}]\n",
            "امام علیه السلام به این نکته اشاره مى فرمایند که دین به اعماق وجود انسانهاى آن زمان نفوذ نکرده و همه وجود آنان را سرشار نکردهبود\n",
            "[{'language': 'Gilaki', 'code': 'glk', 'score': 0.7506327629089355}]\n",
            "میزان دیندارى مردم و بهره آنها از دین و احکام الهى  همان بهره اى است که انسان گرسنه از شیرین کردن دهان خود مى برد و در نتیجه امام علیه السلام بعد از این عبارت مى فرمایند\n",
            "[{'language': 'Gilaki', 'code': 'glk', 'score': 0.7150279879570007}]\n",
            "این وضعیت اجتماعى آغاز دوران امامت امام سجاد علیه السلام بود و باید مقایسه شود بین این روحیه حاکم بر اجتماع و این مقدار دیندارى و تعبد به موازین و احکام شرع با آنچه که امیرالمومنین علیه السلام در خطبه پنجاه و ششم نهج البلاغه مى فرمایند\n",
            "[{'language': 'Persian', 'code': 'fas', 'score': 0.9450116157531738}]\n"
          ]
        }
      ]
    },
    {
      "cell_type": "markdown",
      "metadata": {
        "id": "ZBbnDsvnldia"
      },
      "source": [
        "I used percentages to distinguish between Arabic and Persian \n",
        "Words became tokens and Each token or word was checked to see if it was Arabic or Persian.\n",
        "If it is Arabic, the number one is assigned to it\n",
        "If it was Persian, the number 0\n",
        "\n",
        "If the average is above 80%, it is an Arabic sentence\n",
        "Otherwise, the sentence is Persian.\n"
      ]
    },
    {
      "cell_type": "code",
      "metadata": {
        "id": "2LLFOptNTBsq"
      },
      "source": [
        "# params\n",
        "ar = 1\n",
        "fa = 0\n",
        "# how_many_token_level = 20\n",
        "sentece_level_confidnce = 0.85\n",
        "\n",
        "results = zabanshenas.detect(pharases)\n",
        "\n",
        "acutal_results = []\n",
        "for i, res in enumerate(results):\n",
        "  current  = {'code': -1, 'score': 0}\n",
        "  # if the model isn't very confident: test it in token level \n",
        "  if res['score'] < sentece_level_confidnce:\n",
        "      # tokens = pharases[i].split(' ')[:how_many_token_level]\n",
        "      tokens = pharases[i].split(' ')\n",
        "      # stopwords = stopwords_output(\"Persian\", \"nar\")\n",
        "      # tokenss = [w for w in tokens if not w in stopwords]\n",
        "      token_level_langs = [0 if res['code'] in ('glk', 'fas', 'mzn') else 1 for res in zabanshenas.detect(tokens)]    \n",
        "      mean = sum(token_level_langs)/len(tokens)\n",
        "      if mean > 0.8: # has more than 80% arabic word\n",
        "          current['code'], current['score'] = ar, mean\n",
        "      else:\n",
        "          current['code'], current['score'] = fa, (1-mean)\n",
        "  # if model is sure just convert it to correct format\n",
        "  else:\n",
        "      if res['code'] in ('glk', 'fas', 'mzn'):\n",
        "          current['code'], current['score'] = fa, res['score']\n",
        "      else:\n",
        "          current['code'], current['score'] = ar, res['score']\n",
        "  acutal_results.append(current)\n",
        "  "
      ],
      "execution_count": null,
      "outputs": []
    },
    {
      "cell_type": "code",
      "metadata": {
        "colab": {
          "base_uri": "https://localhost:8080/"
        },
        "id": "sX9e7_64dUrF",
        "outputId": "beb081a7-e31d-4095-a3f6-2e3aab55e57d"
      },
      "source": [
        "pharases"
      ],
      "execution_count": null,
      "outputs": [
        {
          "output_type": "execute_result",
          "data": {
            "text/plain": [
              "['الحمد لله رب العالمین و صلى الله على سیدنا محمد و آله الطاهرین و لعنة الله على أعدائهم اجمعین',\n",
              " 'قبل از ورود به بحث پیرامون کلمات امام سجاد حضرت زین العابدین علیه السلام در  رساله حقوق  آشنایى مختصرى با صاحب این سخنان ضرورى مى نماید',\n",
              " 'الناس عبید الدنیا  و الدین لعق    على السنتهم  یحوطونه ما درت معایشهم  فاذا محصوا بالبلأ قل الدیانون',\n",
              " 'مردم به صورت قضیه مهمله عمدتا بندگان دنیایند و دیندارى و حظ و بهره آنان از دین  مانند انسان گرسنه اى است که بهره اش از غذا  فقط تغذیه حس چشایى است',\n",
              " 'این تعبیرات اباعبدالله علیه السلام  در توصیف و تبیین وضعیت اجتماعى  و جو حاکم بر افکار و اندیشه هاى مردم آن زمان بسیار لطیف و در نتیجه  روانشناسى اجتماعى آن روزگار است',\n",
              " 'امام علیه السلام به این نکته اشاره مى فرمایند که دین به اعماق وجود انسانهاى آن زمان نفوذ نکرده و همه وجود آنان را سرشار نکردهبود',\n",
              " 'میزان دیندارى مردم و بهره آنها از دین و احکام الهى  همان بهره اى است که انسان گرسنه از شیرین کردن دهان خود مى برد و در نتیجه امام علیه السلام بعد از این عبارت مى فرمایند',\n",
              " 'این وضعیت اجتماعى آغاز دوران امامت امام سجاد علیه السلام بود و باید مقایسه شود بین این روحیه حاکم بر اجتماع و این مقدار دیندارى و تعبد به موازین و احکام شرع با آنچه که امیرالمومنین علیه السلام در خطبه پنجاه و ششم نهج البلاغه مى فرمایند']"
            ]
          },
          "metadata": {},
          "execution_count": 62
        }
      ]
    },
    {
      "cell_type": "markdown",
      "metadata": {
        "id": "K4SOPKcEdClG"
      },
      "source": [
        "**1 means arabic and 0 means farsi** "
      ]
    },
    {
      "cell_type": "code",
      "metadata": {
        "colab": {
          "base_uri": "https://localhost:8080/"
        },
        "id": "YaQaZ8UldBXu",
        "outputId": "45f76fb9-36d3-4a1d-c903-2bfd257ff99b"
      },
      "source": [
        "acutal_results # 100% aacuray"
      ],
      "execution_count": null,
      "outputs": [
        {
          "output_type": "execute_result",
          "data": {
            "text/plain": [
              "[{'code': 1, 'score': 0.9473684210526315},\n",
              " {'code': 0, 'score': 0.2857142857142857},\n",
              " {'code': 1, 'score': 0.9324916005134583},\n",
              " {'code': 0, 'score': 0.32352941176470584},\n",
              " {'code': 0, 'score': 0.2857142857142857},\n",
              " {'code': 0, 'score': 0.46153846153846156},\n",
              " {'code': 0, 'score': 0.39473684210526316},\n",
              " {'code': 0, 'score': 0.9450117349624634}]"
            ]
          },
          "metadata": {},
          "execution_count": 64
        }
      ]
    },
    {
      "cell_type": "markdown",
      "metadata": {
        "id": "KIR4NLFSdvyi"
      },
      "source": [
        "__________________________________________\n",
        "__________________________________________"
      ]
    },
    {
      "cell_type": "markdown",
      "metadata": {
        "id": "e18p00KheAqs"
      },
      "source": [
        "#Another library used to recognize the Arabic language from another language : **langdetect**"
      ]
    },
    {
      "cell_type": "code",
      "metadata": {
        "id": "OCe74hy7d3UD"
      },
      "source": [
        "!pip install langdetect"
      ],
      "execution_count": null,
      "outputs": []
    },
    {
      "cell_type": "code",
      "metadata": {
        "colab": {
          "base_uri": "https://localhost:8080/"
        },
        "id": "i2vjsP3MeOjq",
        "outputId": "698ee27d-2186-4461-a626-e327c0431c0c"
      },
      "source": [
        "from langdetect import detect\n",
        "\n",
        "pharases = []\n",
        "for item in data:\n",
        "    sentences = sent_tokenize(item)\n",
        "    for sent in sentences:\n",
        "        phrase = re.split('[?.:]', sent)[0]\n",
        "        phrase= clean(phrase)\n",
        "        print(phrase)\n",
        "        try:\n",
        "          results=detect(phrase)\n",
        "          print(results)\n",
        "        except:\n",
        "          results='no'\n",
        "          pharases.append(phrase)\n",
        "     \n",
        "# pharases"
      ],
      "execution_count": null,
      "outputs": [
        {
          "output_type": "stream",
          "name": "stdout",
          "text": [
            "الحمد لله رب العالمین و صلى الله على سیدنا محمد و آله الطاهرین و لعنة الله على أعدائهم اجمعین\n",
            "ar\n",
            "قبل از ورود به بحث پیرامون کلمات امام سجاد حضرت زین العابدین  در  رساله حقوق  آشنایى مختصرى با صاحب این سخنان ضرورى مى نماید\n",
            "fa\n",
            "الناس عبید الدنیا  و الدین لعق    على السنتهم  یحوطونه ما درت معایشهم  فاذا محصوا بالبلأ قل الدیانون\n",
            "ar\n",
            "مردم به صورت قضیه مهمله عمدتا بندگان دنیایند و دیندارى و حظ و بهره آنان از دین  مانند انسان گرسنه اى است که بهره اش از غذا  فقط تغذیه حس چشایى است\n",
            "fa\n",
            "این تعبیرات اباعبدالله   در توصیف و تبیین وضعیت اجتماعى  و جو حاکم بر افکار و اندیشه هاى مردم آن زمان بسیار لطیف و در نتیجه  روانشناسى اجتماعى آن روزگار است\n",
            "fa\n",
            "امام  به این نکته اشاره مى فرمایند که دین به اعماق وجود انسانهاى آن زمان نفوذ نکرده و همه وجود آنان را سرشار نکردهبود\n",
            "fa\n",
            "میزان دیندارى مردم و بهره آنها از دین و احکام الهى  همان بهره اى است که انسان گرسنه از شیرین کردن دهان خود مى برد و در نتیجه امام  بعد از این عبارت مى فرمایند\n",
            "fa\n",
            "این وضعیت اجتماعى آغاز دوران امامت امام سجاد  بود و باید مقایسه شود بین این روحیه حاکم بر اجتماع و این مقدار دیندارى و تعبد به موازین و احکام شرع با آنچه که امیرالمومنین  در خطبه پنجاه و ششم نهج البلاغه مى فرمایند\n",
            "fa\n"
          ]
        }
      ]
    },
    {
      "cell_type": "markdown",
      "metadata": {
        "id": "sr1O-H4iebqC"
      },
      "source": [
        "#Another library used to recognize the Arabic language : **Fasttext**\n",
        "Quantized model built using Fasttext"
      ]
    },
    {
      "cell_type": "code",
      "metadata": {
        "colab": {
          "base_uri": "https://localhost:8080/"
        },
        "id": "vhjosftyey4J",
        "outputId": "2bc66731-c503-42ee-fb4a-d6467c2b9792"
      },
      "source": [
        "!pip install future==0.16.0\n",
        "!pip install Cython==0.27.2\n",
        "!pip install cysignals==1.6.5\n",
        "!pip install pyfasttext==0.4.3\n",
        "!pip install whatthelang"
      ],
      "execution_count": null,
      "outputs": [
        {
          "output_type": "stream",
          "name": "stdout",
          "text": [
            "Requirement already satisfied: future==0.16.0 in /usr/local/lib/python3.7/dist-packages (0.16.0)\n",
            "Collecting Cython==0.27.2\n",
            "  Downloading Cython-0.27.2.tar.gz (1.8 MB)\n",
            "\u001b[K     |████████████████████████████████| 1.8 MB 14.7 MB/s \n",
            "\u001b[?25hBuilding wheels for collected packages: Cython\n",
            "  Building wheel for Cython (setup.py) ... \u001b[?25lerror\n",
            "\u001b[31m  ERROR: Failed building wheel for Cython\u001b[0m\n",
            "\u001b[?25h  Running setup.py clean for Cython\n",
            "Failed to build Cython\n",
            "Installing collected packages: Cython\n",
            "  Attempting uninstall: Cython\n",
            "    Found existing installation: Cython 0.29.24\n",
            "    Uninstalling Cython-0.29.24:\n",
            "      Successfully uninstalled Cython-0.29.24\n",
            "    Running setup.py install for Cython ... \u001b[?25l\u001b[?25herror\n",
            "  Rolling back uninstall of Cython\n",
            "  Moving to /usr/local/bin/cygdb\n",
            "   from /tmp/pip-uninstall-1g76fiox/cygdb\n",
            "  Moving to /usr/local/bin/cython\n",
            "   from /tmp/pip-uninstall-1g76fiox/cython\n",
            "  Moving to /usr/local/bin/cythonize\n",
            "   from /tmp/pip-uninstall-1g76fiox/cythonize\n",
            "  Moving to /usr/local/lib/python3.7/dist-packages/Cython-0.29.24.dist-info/\n",
            "   from /usr/local/lib/python3.7/dist-packages/~ython-0.29.24.dist-info\n",
            "  Moving to /usr/local/lib/python3.7/dist-packages/Cython/\n",
            "   from /usr/local/lib/python3.7/dist-packages/~ython\n",
            "  Moving to /usr/local/lib/python3.7/dist-packages/__pycache__/cython.cpython-37.pyc\n",
            "   from /tmp/pip-uninstall-vvzz6bi0/cython.cpython-37.pyc\n",
            "  Moving to /usr/local/lib/python3.7/dist-packages/cython.py\n",
            "   from /tmp/pip-uninstall-vt1pidrm/cython.py\n",
            "  Moving to /usr/local/lib/python3.7/dist-packages/pyximport/\n",
            "   from /usr/local/lib/python3.7/dist-packages/~yximport\n",
            "\u001b[31mERROR: Command errored out with exit status 1: /usr/bin/python3 -u -c 'import io, os, sys, setuptools, tokenize; sys.argv[0] = '\"'\"'/tmp/pip-install-3s8uh4hu/cython_c68c569caa824eee94a3c80fefa10afb/setup.py'\"'\"'; __file__='\"'\"'/tmp/pip-install-3s8uh4hu/cython_c68c569caa824eee94a3c80fefa10afb/setup.py'\"'\"';f = getattr(tokenize, '\"'\"'open'\"'\"', open)(__file__) if os.path.exists(__file__) else io.StringIO('\"'\"'from setuptools import setup; setup()'\"'\"');code = f.read().replace('\"'\"'\\r\\n'\"'\"', '\"'\"'\\n'\"'\"');f.close();exec(compile(code, __file__, '\"'\"'exec'\"'\"'))' install --record /tmp/pip-record-4n6g2eu_/install-record.txt --single-version-externally-managed --compile --install-headers /usr/local/include/python3.7/Cython Check the logs for full command output.\u001b[0m\n",
            "Collecting cysignals==1.6.5\n",
            "  Downloading cysignals-1.6.5.tar.bz2 (69 kB)\n",
            "\u001b[K     |████████████████████████████████| 69 kB 4.3 MB/s \n",
            "\u001b[?25hBuilding wheels for collected packages: cysignals\n",
            "  Building wheel for cysignals (setup.py) ... \u001b[?25l\u001b[?25hdone\n",
            "  Created wheel for cysignals: filename=cysignals-1.6.5-cp37-cp37m-linux_x86_64.whl size=585344 sha256=16ce971895d1d708d940c2cfe14808d84e3b1a2fe3f320e500b2cf0afb5aa3b2\n",
            "  Stored in directory: /root/.cache/pip/wheels/07/ae/60/83ef0a5a8e86374145d0a3324de02d1ecacb57de6292bd9fd9\n",
            "Successfully built cysignals\n",
            "Installing collected packages: cysignals\n",
            "Successfully installed cysignals-1.6.5\n",
            "Collecting pyfasttext==0.4.3\n",
            "  Downloading pyfasttext-0.4.3.tar.gz (231 kB)\n",
            "\u001b[K     |████████████████████████████████| 231 kB 12.6 MB/s \n",
            "\u001b[?25hRequirement already satisfied: cysignals in /usr/local/lib/python3.7/dist-packages (from pyfasttext==0.4.3) (1.6.5)\n",
            "Requirement already satisfied: future in /usr/local/lib/python3.7/dist-packages (from pyfasttext==0.4.3) (0.16.0)\n",
            "Requirement already satisfied: numpy in /usr/local/lib/python3.7/dist-packages (from pyfasttext==0.4.3) (1.19.5)\n",
            "Building wheels for collected packages: pyfasttext\n",
            "  Building wheel for pyfasttext (setup.py) ... \u001b[?25l\u001b[?25hdone\n",
            "  Created wheel for pyfasttext: filename=pyfasttext-0.4.3-cp37-cp37m-linux_x86_64.whl size=1456536 sha256=95eb44cde0fc92071a9e96588f9f5b132267ec01f21e652dcba5a9a298da2187\n",
            "  Stored in directory: /root/.cache/pip/wheels/7c/3c/e1/4be5ba1d42c1b06804743878db322529f19c58ff40a9df383d\n",
            "Successfully built pyfasttext\n",
            "Installing collected packages: pyfasttext\n",
            "Successfully installed pyfasttext-0.4.3\n",
            "Collecting whatthelang\n",
            "  Downloading whatthelang-1.0.1.tar.gz (786 kB)\n",
            "\u001b[K     |████████████████████████████████| 786 kB 11.9 MB/s \n",
            "\u001b[?25hRequirement already satisfied: Cython in /usr/local/lib/python3.7/dist-packages (from whatthelang) (0.29.24)\n",
            "Requirement already satisfied: cysignals in /usr/local/lib/python3.7/dist-packages (from whatthelang) (1.6.5)\n",
            "Requirement already satisfied: pyfasttext in /usr/local/lib/python3.7/dist-packages (from whatthelang) (0.4.3)\n",
            "Requirement already satisfied: numpy in /usr/local/lib/python3.7/dist-packages (from pyfasttext->whatthelang) (1.19.5)\n",
            "Requirement already satisfied: future in /usr/local/lib/python3.7/dist-packages (from pyfasttext->whatthelang) (0.16.0)\n",
            "Building wheels for collected packages: whatthelang\n",
            "  Building wheel for whatthelang (setup.py) ... \u001b[?25l\u001b[?25hdone\n",
            "  Created wheel for whatthelang: filename=whatthelang-1.0.1-py3-none-any.whl size=789816 sha256=07e506a7f1c7b9f99eb3de2e4ee9301169335c71e5e6c523a724fe27259f2045\n",
            "  Stored in directory: /root/.cache/pip/wheels/91/5b/fe/43b4b1eb6511aed55a9c5ecf3a178a9b06d783a58907dbc87b\n",
            "Successfully built whatthelang\n",
            "Installing collected packages: whatthelang\n",
            "Successfully installed whatthelang-1.0.1\n"
          ]
        }
      ]
    },
    {
      "cell_type": "code",
      "metadata": {
        "colab": {
          "base_uri": "https://localhost:8080/"
        },
        "id": "GLMDmHybe5W5",
        "outputId": "8310a4cc-56fe-48e3-ec6d-ce8caec06cb1"
      },
      "source": [
        "from whatthelang import WhatTheLang\n",
        "wtl = WhatTheLang()\n",
        "pharases = []\n",
        "for item in data:\n",
        "    sentences = sent_tokenize(item)\n",
        "    for sent in sentences:\n",
        "        phrase = re.split('[?.:]', sent)[0]\n",
        "        phrase= clean(phrase)\n",
        "        print(phrase)\n",
        "        results = wtl.predict_lang(phrase)\n",
        "        print(results)\n",
        "        pharases.append(phrase)"
      ],
      "execution_count": null,
      "outputs": [
        {
          "output_type": "stream",
          "name": "stdout",
          "text": [
            "الحمد لله رب العالمین و صلى الله على سیدنا محمد و آله الطاهرین و لعنة الله على أعدائهم اجمعین\n",
            "ar\n",
            "قبل از ورود به بحث پیرامون کلمات امام سجاد حضرت زین العابدین علیه السلام در  رساله حقوق  آشنایى مختصرى با صاحب این سخنان ضرورى مى نماید\n",
            "fa\n",
            "الناس عبید الدنیا  و الدین لعق    على السنتهم  یحوطونه ما درت معایشهم  فاذا محصوا بالبلأ قل الدیانون\n",
            "ar\n",
            "مردم به صورت قضیه مهمله عمدتا بندگان دنیایند و دیندارى و حظ و بهره آنان از دین  مانند انسان گرسنه اى است که بهره اش از غذا  فقط تغذیه حس چشایى است\n",
            "fa\n",
            "این تعبیرات اباعبدالله علیه السلام  در توصیف و تبیین وضعیت اجتماعى  و جو حاکم بر افکار و اندیشه هاى مردم آن زمان بسیار لطیف و در نتیجه  روانشناسى اجتماعى آن روزگار است\n",
            "fa\n",
            "امام علیه السلام به این نکته اشاره مى فرمایند که دین به اعماق وجود انسانهاى آن زمان نفوذ نکرده و همه وجود آنان را سرشار نکردهبود\n",
            "fa\n",
            "میزان دیندارى مردم و بهره آنها از دین و احکام الهى  همان بهره اى است که انسان گرسنه از شیرین کردن دهان خود مى برد و در نتیجه امام علیه السلام بعد از این عبارت مى فرمایند\n",
            "fa\n",
            "این وضعیت اجتماعى آغاز دوران امامت امام سجاد علیه السلام بود و باید مقایسه شود بین این روحیه حاکم بر اجتماع و این مقدار دیندارى و تعبد به موازین و احکام شرع با آنچه که امیرالمومنین علیه السلام در خطبه پنجاه و ششم نهج البلاغه مى فرمایند\n",
            "fa\n"
          ]
        }
      ]
    },
    {
      "cell_type": "markdown",
      "metadata": {
        "id": "AuAkETA-pAOh"
      },
      "source": [
        "______________________________________________________________________________________\n"
      ]
    },
    {
      "cell_type": "markdown",
      "metadata": {
        "id": "vBb8C-_drPlk"
      },
      "source": [
        "Another way I wanted to test to recognize Arabic words was:\n",
        "Examine all the Arabic letters in each word. If there is more than one number, it is an Arabic word.\n",
        "But the problem was that I could not find the complete data of all the Arabic letters.\n",
        "Part of the function I wrote is below"
      ]
    },
    {
      "cell_type": "code",
      "metadata": {
        "id": "6sRw4XU9o_eQ"
      },
      "source": [
        "import re\n",
        "def unifing_alphabets(text):\n",
        "    text = re.findall(r''''|اَ|اِ|اُ|اٌ|اٍ|اً|أ|إ|پَ|پِ|پُ|\n",
        "    رَ|رِ|رُ|رّ|\n",
        "    ذَ|‌ذِ|ذُ|\n",
        "    دَ|دِ|دُ|دّ|\n",
        "    خَ|خِ|خُ|حَ|حِ|حُ|چَ|چِ|چُ|چّ|جَ|جِ|جُ|جّ|\n",
        "    ضَ|ضِ|ضُ|صَ|صِ|صُ|\n",
        "    ظَ|ظِ|ظُ|طَ|طِ|طُ|\n",
        "    شَ|شِ|شُ|سَ|سِ|سُ|سّ|\n",
        "    ژَ|ژِ|ژُ|زَ|زِ|زُ|زّ|\n",
        "    ثَ|ثِ|ثُ|تَ|تِ|تُ|تّ|بَ|بِ|بُ|بّ|\n",
        "    عَ|عِ|عُ|\n",
        "    غَ|غِ|غُ|\n",
        "    فَ|فِ|فُ|فّ|\n",
        "    قَ|قِ|قُ|قّ|\n",
        "    کَ|کِ|کُ|ك|كَ|كِ|كُ|کّ|كّ|\n",
        "    گَ|گِ|گُ|\n",
        "    لَ|لِ|لُ|لّ|\n",
        "    مَ|مِ|مُ|\n",
        "    نَ|نِ|نُ|نّ|\n",
        "    وَ|وِ|وُ|ؤ|ؤَ|ؤُ|ؤِ|وّ|ؤّ|\n",
        "    هَ|هِ|هُ|ة|\n",
        "    یَ|یِ|یُ|ي|يَ|يِ|يُ|يّ|یّ|\n",
        "    ئَ|ئِ|ئُ|ئّ|''', text)"
      ],
      "execution_count": null,
      "outputs": []
    },
    {
      "cell_type": "code",
      "metadata": {
        "id": "iQfjyzrWq58E"
      },
      "source": [
        "sentence= word_tokenize(text)\n",
        "# sentence\n",
        "for word in sentence:\n",
        "  # print(i)\n",
        "  for j in word:\n",
        "    # print(j)\n",
        "    if(j==unifing_alphabets):\n",
        "      print(\"j\")\n"
      ],
      "execution_count": null,
      "outputs": []
    }
  ]
}